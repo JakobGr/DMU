{
 "cells": [
  {
   "cell_type": "code",
   "execution_count": 4,
   "metadata": {},
   "outputs": [
    {
     "name": "stdout",
     "output_type": "stream",
     "text": [
      "=== Maximum Weighted Matching via NetworkX ===\n",
      "Optimal Pairing: {('Student_28', 'Student_44'), ('Student_5', 'Student_19'), ('Student_30', 'Student_9'), ('Student_32', 'Student_33'), ('Student_15', 'Student_7'), ('Student_40', 'Student_42'), ('Student_22', 'Student_2'), ('Student_48', 'Student_12'), ('Student_3', 'Student_14'), ('Student_17', 'Student_13'), ('Student_37', 'Student_16'), ('Student_20', 'Student_23'), ('Student_1', 'Student_35'), ('Student_21', 'Student_24'), ('Student_46', 'Student_10'), ('Student_25', 'Student_39'), ('Student_47', 'Student_38'), ('Student_27', 'Student_8'), ('Student_6', 'Student_29'), ('Student_36', 'Student_43'), ('Student_11', 'Student_4'), ('Student_45', 'Student_31'), ('Student_41', 'Student_50'), ('Student_49', 'Student_26'), ('Student_18', 'Student_34')}\n",
      "Time Taken: 0.1460 seconds\n",
      "Peak Memory Usage: 0.45 MiB\n"
     ]
    }
   ],
   "source": [
    "import pandas as pd\n",
    "import networkx as nx\n",
    "import time\n",
    "import tracemalloc\n",
    "\n",
    "def max_weight_matching_from_csv(csv_path):\n",
    "    # Load the CSV containing the compatibility scores\n",
    "    df = pd.read_csv(csv_path)\n",
    "    \n",
    "    # Build the set of students (nodes)\n",
    "    students = set(df['Student 1']).union(df['Student 2'])\n",
    "    \n",
    "    # Create an undirected graph\n",
    "    G = nx.Graph()\n",
    "    G.add_nodes_from(students)\n",
    "    \n",
    "    # Add edges with weights (compatibility scores)\n",
    "    for _, row in df.iterrows():\n",
    "        G.add_edge(row['Student 1'], row['Student 2'], weight=row['Compatibility Score'])\n",
    "    \n",
    "    # Compute the maximum weighted matching with maximum cardinality\n",
    "    matching = nx.max_weight_matching(G, maxcardinality=True)\n",
    "    \n",
    "    return matching\n",
    "\n",
    "# Example usage:\n",
    "csv_path = \"data/compatibility_50.csv\"\n",
    "tracemalloc.start()\n",
    "start_time = time.time()\n",
    "\n",
    "matching = max_weight_matching_from_csv(csv_path)\n",
    "\n",
    "end_time = time.time()\n",
    "current, peak = tracemalloc.get_traced_memory()\n",
    "tracemalloc.stop()\n",
    "\n",
    "print(\"=== Maximum Weighted Matching via NetworkX ===\")\n",
    "print(f\"Optimal Pairing: {matching}\")\n",
    "print(f\"Time Taken: {end_time - start_time:.4f} seconds\")\n",
    "print(f\"Peak Memory Usage: {peak / 10**6:.2f} MiB\")"
   ]
  }
 ],
 "metadata": {
  "kernelspec": {
   "display_name": "Python 3",
   "language": "python",
   "name": "python3"
  },
  "language_info": {
   "codemirror_mode": {
    "name": "ipython",
    "version": 3
   },
   "file_extension": ".py",
   "mimetype": "text/x-python",
   "name": "python",
   "nbconvert_exporter": "python",
   "pygments_lexer": "ipython3",
   "version": "3.11.9"
  }
 },
 "nbformat": 4,
 "nbformat_minor": 2
}

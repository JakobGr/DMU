{
 "cells": [
  {
   "cell_type": "code",
   "execution_count": 15,
   "metadata": {},
   "outputs": [],
   "source": [
    "import pandas as pd\n",
    "import numpy as np\n",
    "import time\n",
    "import tracemalloc\n",
    "from numba import njit, typed, types\n",
    "\n",
    "# Define a tuple type for a pair of int64 values.\n",
    "pair_type = types.Tuple((types.int64, types.int64))\n",
    "\n",
    "# ============================================================\n",
    "# Numba-accelerated helper functions\n",
    "# ============================================================\n",
    "\n",
    "@njit(cache=True)\n",
    "def compute_upper_bound(mask, comp, n):\n",
    "    \"\"\"\n",
    "    Given a bitmask 'mask' indicating which students are unmatched,\n",
    "    compute an upper bound on the additional compatibility score achievable\n",
    "    from the remaining students.\n",
    "    \"\"\"\n",
    "    additional = 0.0\n",
    "    for i in range(n):\n",
    "        if mask & (1 << i):\n",
    "            best_val = 0.0\n",
    "            for j in range(n):\n",
    "                if (mask & (1 << j)) and (i != j):\n",
    "                    if comp[i, j] > best_val:\n",
    "                        best_val = comp[i, j]\n",
    "            additional += best_val\n",
    "    return additional / 2.0\n",
    "\n",
    "@njit(cache=True)\n",
    "def clear_typed_list(typed_list):\n",
    "    \"\"\"\n",
    "    Clears a Numba-typed list by popping all its elements.\n",
    "    \"\"\"\n",
    "    count = len(typed_list)\n",
    "    for _ in range(count):\n",
    "        typed_list.pop()\n",
    "\n",
    "@njit(cache=True)\n",
    "def search(mask, current_score, comp, n, best_score, best_pairs, current_pairs, memo, allocations):\n",
    "    \"\"\"\n",
    "    Recursive branch and bound search.\n",
    "    \n",
    "    Parameters:\n",
    "      mask: Bitmask (np.int64) representing unmatched students.\n",
    "      current_score: Accumulated compatibility score.\n",
    "      comp: n x n NumPy array of compatibility scores.\n",
    "      n: Total number of students.\n",
    "      best_score: A 1-element NumPy array (mutable container) for the best score.\n",
    "      best_pairs: A Numba-typed list (of 2-element tuples of int64) storing the best pairing.\n",
    "      current_pairs: A Numba-typed list (of 2-element tuples of int64) storing the current pairing.\n",
    "      memo: A Numba-typed dictionary mapping masks (int64) to float64 upper bounds.\n",
    "      allocations: A 1-element NumPy array (of int64) used as a counter.\n",
    "    \"\"\"\n",
    "    # Base case: all students paired.\n",
    "    if mask == 0:\n",
    "        if current_score > best_score[0]:\n",
    "            best_score[0] = current_score\n",
    "            clear_typed_list(best_pairs)\n",
    "            for idx in range(len(current_pairs)):\n",
    "                best_pairs.append(current_pairs[idx])\n",
    "        return\n",
    "\n",
    "    # Use memoization to prune.\n",
    "    if mask in memo:\n",
    "        if current_score + memo[mask] <= best_score[0]:\n",
    "            return\n",
    "    else:\n",
    "        ub_val = compute_upper_bound(mask, comp, n)\n",
    "        memo[mask] = ub_val\n",
    "        if current_score + ub_val <= best_score[0]:\n",
    "            return\n",
    "\n",
    "    # Choose the first unmatched student (lowest-index bit in mask).\n",
    "    i = 0\n",
    "    while i < n:\n",
    "        if mask & (1 << i):\n",
    "            break\n",
    "        i += 1\n",
    "\n",
    "    new_mask = mask & ~(1 << i)\n",
    "    \n",
    "    # Build a NumPy array of candidate partner indices from new_mask.\n",
    "    candidate_count = 0\n",
    "    candidate_arr = np.empty(n, dtype=np.int64)\n",
    "    for j in range(n):\n",
    "        if new_mask & (1 << j):\n",
    "            candidate_arr[candidate_count] = j\n",
    "            candidate_count += 1\n",
    "    candidate_arr = candidate_arr[:candidate_count]\n",
    "    \n",
    "    # Sort candidate indices in descending order of compatibility with student i.\n",
    "    order_temp = np.argsort(comp[i, candidate_arr])\n",
    "    m = order_temp.shape[0]\n",
    "    order = np.empty(m, dtype=np.int64)\n",
    "    for k in range(m):\n",
    "        order[k] = order_temp[m - 1 - k]  # Reverse order.\n",
    "    sorted_candidates = candidate_arr[order]\n",
    "    \n",
    "    # Try pairing student i with each candidate.\n",
    "    for j in sorted_candidates:\n",
    "        pair_score = comp[i, j]\n",
    "        next_mask = new_mask & ~(1 << j)\n",
    "        current_pairs.append((i, j))\n",
    "        allocations[0] += 1\n",
    "        search(next_mask, current_score + pair_score, comp, n, best_score, best_pairs, current_pairs, memo, allocations)\n",
    "        current_pairs.pop()\n",
    "\n",
    "@njit(cache=True)\n",
    "def branch_and_bound_numba(comp, n):\n",
    "    \"\"\"\n",
    "    Entry point for the Numba-accelerated branch and bound search.\n",
    "    \n",
    "    Returns a tuple:\n",
    "      (best total compatibility score, best pairing as a typed list, allocation count)\n",
    "    \"\"\"\n",
    "    best_score = np.array([-1e9], dtype=np.float64)  # 1-element array for best score.\n",
    "    best_pairs = typed.List.empty_list(pair_type)\n",
    "    current_pairs = typed.List.empty_list(pair_type)\n",
    "    memo = typed.Dict.empty(key_type=types.int64, value_type=types.float64)\n",
    "    allocations = np.zeros(1, dtype=np.int64)  # 1-element counter.\n",
    "    full_mask = np.int64((1 << n) - 1)  # Cast to np.int64.\n",
    "    search(full_mask, 0.0, comp, n, best_score, best_pairs, current_pairs, memo, allocations)\n",
    "    return best_score[0], best_pairs, allocations[0]\n",
    "\n",
    "# ============================================================\n",
    "# Python wrapper function\n",
    "# ============================================================\n",
    "def solve_roommate_matching_improved(csv_path, method='branch_and_bound'):\n",
    "    \"\"\"\n",
    "    Reads compatibility data from CSV and computes the optimal pairing using\n",
    "    a branch and bound algorithm with a bitmask-based representation and Numba acceleration.\n",
    "    \n",
    "    Returns:\n",
    "      - best_pairing_named: List of tuples (student names) for the optimal pairing.\n",
    "      - best_score: Total compatibility score.\n",
    "      - allocations: Number of recursive branch allocations (nodes expanded).\n",
    "      - run_time: Total execution time in seconds.\n",
    "      - peak_memory: Peak memory usage in MiB.\n",
    "    \"\"\"\n",
    "    # Load CSV data.\n",
    "    df = pd.read_csv(csv_path)\n",
    "    \n",
    "    # Build a sorted list of unique student names.\n",
    "    student_names = sorted(list(set(df['Student 1'].tolist() + df['Student 2'].tolist())))\n",
    "    n = len(student_names)\n",
    "    student_to_index = {name: i for i, name in enumerate(student_names)}\n",
    "    index_to_student = {i: name for i, name in enumerate(student_names)}\n",
    "    \n",
    "    # Build an n x n compatibility matrix as a NumPy array.\n",
    "    comp = np.zeros((n, n), dtype=np.float64)\n",
    "    for _, row in df.iterrows():\n",
    "        i = student_to_index[row['Student 1']]\n",
    "        j = student_to_index[row['Student 2']]\n",
    "        score = row['Compatibility Score']\n",
    "        comp[i, j] = score\n",
    "        comp[j, i] = score  # Ensure symmetry.\n",
    "    \n",
    "    # Start timing and memory tracking.\n",
    "    tracemalloc.start()\n",
    "    start_time = time.time()\n",
    "    \n",
    "    best, best_pairs, allocs = branch_and_bound_numba(comp, n)\n",
    "    \n",
    "    end_time = time.time()\n",
    "    current, peak = tracemalloc.get_traced_memory()\n",
    "    tracemalloc.stop()\n",
    "    \n",
    "    run_time = end_time - start_time\n",
    "    peak_memory = peak / 10**6  # Convert bytes to MiB.\n",
    "    \n",
    "    # Convert best_pairs (typed list of index pairs) to pairs of student names.\n",
    "    best_pairing_named = [(index_to_student[p[0]], index_to_student[p[1]]) for p in best_pairs]\n",
    "    \n",
    "    print(\"=== Improved Branch and Bound (Numba) ===\")\n",
    "    print(f\"Optimal Pairing: {best_pairing_named}\")\n",
    "    print(f\"Total Compatibility Score: {best}\")\n",
    "    print(f\"Number of Allocations (nodes expanded): {allocs}\")\n",
    "    print(f\"Time Taken: {run_time:.4f} seconds\")\n",
    "    print(f\"Peak Memory Usage: {peak_memory:.3f} MiB\")\n",
    "    \n",
    "    return best_pairing_named, best, allocs, run_time, peak_memory"
   ]
  },
  {
   "cell_type": "code",
   "execution_count": 16,
   "metadata": {},
   "outputs": [
    {
     "name": "stdout",
     "output_type": "stream",
     "text": [
      "=== Improved Branch and Bound (Numba) ===\n",
      "Optimal Pairing: [('Student_1', 'Student_2'), ('Student_3', 'Student_5'), ('Student_4', 'Student_6')]\n",
      "Total Compatibility Score: 2.2812001621554097\n",
      "Number of Allocations (nodes expanded): 13\n",
      "Time Taken: 0.0001 seconds\n",
      "Peak Memory Usage: 0.003 MiB\n"
     ]
    },
    {
     "data": {
      "text/plain": [
       "([('Student_1', 'Student_2'),\n",
       "  ('Student_3', 'Student_5'),\n",
       "  ('Student_4', 'Student_6')],\n",
       " 2.2812001621554097,\n",
       " 13,\n",
       " 0.00012087821960449219,\n",
       " 0.0028)"
      ]
     },
     "execution_count": 16,
     "metadata": {},
     "output_type": "execute_result"
    }
   ],
   "source": [
    "solve_roommate_matching_improved(\"data/compatibility_6.csv\")"
   ]
  },
  {
   "cell_type": "code",
   "execution_count": 2,
   "metadata": {},
   "outputs": [
    {
     "name": "stdout",
     "output_type": "stream",
     "text": [
      "=== Improved Branch and Bound (Numba) ===\n",
      "Optimal Pairing: [('Student_1', 'Student_2'), ('Student_3', 'Student_5'), ('Student_4', 'Student_6')]\n",
      "Total Compatibility Score: 2.2812001621554097\n",
      "Number of Allocations (nodes expanded): 13\n",
      "Time Taken: 0.4755 seconds\n",
      "Peak Memory Usage: 19.920 MiB\n"
     ]
    },
    {
     "data": {
      "text/plain": [
       "([('Student_1', 'Student_2'),\n",
       "  ('Student_3', 'Student_5'),\n",
       "  ('Student_4', 'Student_6')],\n",
       " 2.2812001621554097,\n",
       " 13,\n",
       " 0.4755070209503174,\n",
       " 19.919839)"
      ]
     },
     "execution_count": 2,
     "metadata": {},
     "output_type": "execute_result"
    }
   ],
   "source": [
    "solve_roommate_matching_improved(\"data/compatibility_6.csv\") # Generated after starting kernel new"
   ]
  },
  {
   "cell_type": "code",
   "execution_count": 2,
   "metadata": {},
   "outputs": [
    {
     "name": "stdout",
     "output_type": "stream",
     "text": [
      "=== Improved Branch and Bound (Numba) ===\n",
      "Optimal Pairing: [('Student_1', 'Student_8'), ('Student_10', 'Student_2'), ('Student_3', 'Student_4'), ('Student_5', 'Student_6'), ('Student_7', 'Student_9')]\n",
      "Total Compatibility Score: 3.708931604508898\n",
      "Number of Allocations (nodes expanded): 79\n",
      "Time Taken: 0.4819 seconds\n",
      "Peak Memory Usage: 19.920 MiB\n"
     ]
    },
    {
     "data": {
      "text/plain": [
       "([('Student_1', 'Student_8'),\n",
       "  ('Student_10', 'Student_2'),\n",
       "  ('Student_3', 'Student_4'),\n",
       "  ('Student_5', 'Student_6'),\n",
       "  ('Student_7', 'Student_9')],\n",
       " 3.708931604508898,\n",
       " 79,\n",
       " 0.48190999031066895,\n",
       " 19.919655)"
      ]
     },
     "execution_count": 2,
     "metadata": {},
     "output_type": "execute_result"
    }
   ],
   "source": [
    "solve_roommate_matching_improved(\"data/compatibility_10.csv\") # Generated after starting kernel new"
   ]
  },
  {
   "cell_type": "code",
   "execution_count": 2,
   "metadata": {},
   "outputs": [
    {
     "name": "stdout",
     "output_type": "stream",
     "text": [
      "=== Improved Branch and Bound (Numba) ===\n",
      "Optimal Pairing: [('Student_1', 'Student_8'), ('Student_10', 'Student_12'), ('Student_11', 'Student_14'), ('Student_13', 'Student_17'), ('Student_15', 'Student_19'), ('Student_16', 'Student_6'), ('Student_18', 'Student_7'), ('Student_2', 'Student_5'), ('Student_20', 'Student_9'), ('Student_3', 'Student_4')]\n",
      "Total Compatibility Score: 8.003157676038137\n",
      "Number of Allocations (nodes expanded): 1068\n",
      "Time Taken: 0.4920 seconds\n",
      "Peak Memory Usage: 19.921 MiB\n"
     ]
    },
    {
     "data": {
      "text/plain": [
       "([('Student_1', 'Student_8'),\n",
       "  ('Student_10', 'Student_12'),\n",
       "  ('Student_11', 'Student_14'),\n",
       "  ('Student_13', 'Student_17'),\n",
       "  ('Student_15', 'Student_19'),\n",
       "  ('Student_16', 'Student_6'),\n",
       "  ('Student_18', 'Student_7'),\n",
       "  ('Student_2', 'Student_5'),\n",
       "  ('Student_20', 'Student_9'),\n",
       "  ('Student_3', 'Student_4')],\n",
       " 8.003157676038137,\n",
       " 1068,\n",
       " 0.49198484420776367,\n",
       " 19.920558)"
      ]
     },
     "execution_count": 2,
     "metadata": {},
     "output_type": "execute_result"
    }
   ],
   "source": [
    "solve_roommate_matching_improved(\"data/compatibility_20.csv\") # Generated after starting kernel new"
   ]
  },
  {
   "cell_type": "code",
   "execution_count": 2,
   "metadata": {},
   "outputs": [
    {
     "name": "stdout",
     "output_type": "stream",
     "text": [
      "=== Improved Branch and Bound (Numba) ===\n",
      "Optimal Pairing: [('Student_1', 'Student_35'), ('Student_10', 'Student_46'), ('Student_11', 'Student_4'), ('Student_12', 'Student_48'), ('Student_13', 'Student_17'), ('Student_14', 'Student_3'), ('Student_15', 'Student_7'), ('Student_16', 'Student_37'), ('Student_18', 'Student_34'), ('Student_19', 'Student_5'), ('Student_2', 'Student_22'), ('Student_20', 'Student_23'), ('Student_21', 'Student_24'), ('Student_25', 'Student_39'), ('Student_26', 'Student_49'), ('Student_27', 'Student_8'), ('Student_28', 'Student_44'), ('Student_29', 'Student_6'), ('Student_30', 'Student_9'), ('Student_31', 'Student_45'), ('Student_32', 'Student_33'), ('Student_36', 'Student_43'), ('Student_38', 'Student_47'), ('Student_40', 'Student_42'), ('Student_41', 'Student_50')]\n",
      "Total Compatibility Score: 22.377550358731888\n",
      "Number of Allocations (nodes expanded): 7692404\n",
      "Time Taken: 8.0442 seconds\n",
      "Peak Memory Usage: 19.920 MiB\n"
     ]
    },
    {
     "data": {
      "text/plain": [
       "([('Student_1', 'Student_35'),\n",
       "  ('Student_10', 'Student_46'),\n",
       "  ('Student_11', 'Student_4'),\n",
       "  ('Student_12', 'Student_48'),\n",
       "  ('Student_13', 'Student_17'),\n",
       "  ('Student_14', 'Student_3'),\n",
       "  ('Student_15', 'Student_7'),\n",
       "  ('Student_16', 'Student_37'),\n",
       "  ('Student_18', 'Student_34'),\n",
       "  ('Student_19', 'Student_5'),\n",
       "  ('Student_2', 'Student_22'),\n",
       "  ('Student_20', 'Student_23'),\n",
       "  ('Student_21', 'Student_24'),\n",
       "  ('Student_25', 'Student_39'),\n",
       "  ('Student_26', 'Student_49'),\n",
       "  ('Student_27', 'Student_8'),\n",
       "  ('Student_28', 'Student_44'),\n",
       "  ('Student_29', 'Student_6'),\n",
       "  ('Student_30', 'Student_9'),\n",
       "  ('Student_31', 'Student_45'),\n",
       "  ('Student_32', 'Student_33'),\n",
       "  ('Student_36', 'Student_43'),\n",
       "  ('Student_38', 'Student_47'),\n",
       "  ('Student_40', 'Student_42'),\n",
       "  ('Student_41', 'Student_50')],\n",
       " 22.377550358731888,\n",
       " 7692404,\n",
       " 8.044166803359985,\n",
       " 19.919595)"
      ]
     },
     "execution_count": 2,
     "metadata": {},
     "output_type": "execute_result"
    }
   ],
   "source": [
    "solve_roommate_matching_improved(\"data/compatibility_50.csv\") # Generated after starting kernel new"
   ]
  }
 ],
 "metadata": {
  "kernelspec": {
   "display_name": "Python 3",
   "language": "python",
   "name": "python3"
  },
  "language_info": {
   "codemirror_mode": {
    "name": "ipython",
    "version": 3
   },
   "file_extension": ".py",
   "mimetype": "text/x-python",
   "name": "python",
   "nbconvert_exporter": "python",
   "pygments_lexer": "ipython3",
   "version": "3.11.9"
  }
 },
 "nbformat": 4,
 "nbformat_minor": 2
}

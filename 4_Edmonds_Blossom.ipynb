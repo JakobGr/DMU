{
 "cells": [
  {
   "cell_type": "code",
   "execution_count": 1,
   "metadata": {},
   "outputs": [],
   "source": [
    "import pandas as pd\n",
    "import networkx as nx\n",
    "import time\n",
    "import tracemalloc\n",
    "\n",
    "def solve_roommate_matching_graph(csv_path):\n",
    "    \"\"\"\n",
    "    Reads compatibility data from CSV and computes the optimal pairing using\n",
    "    NetworkX's maximum weight matching algorithm.\n",
    "\n",
    "    Returns:\n",
    "      - best_pairing_named: List of tuples (student names) for the optimal pairing.\n",
    "      - total_score: Total compatibility score.\n",
    "      - run_time: Total execution time in seconds.\n",
    "      - peak_memory: Peak memory usage in MiB.\n",
    "    \"\"\"\n",
    "    # Load CSV data\n",
    "    df = pd.read_csv(csv_path)\n",
    "    \n",
    "    # Build the set of students (nodes)\n",
    "    students = set(df['Student 1']).union(df['Student 2'])\n",
    "    \n",
    "    # Create an undirected graph\n",
    "    G = nx.Graph()\n",
    "    G.add_nodes_from(students)\n",
    "    \n",
    "    # Add edges with weights (compatibility scores)\n",
    "    for _, row in df.iterrows():\n",
    "        G.add_edge(row['Student 1'], row['Student 2'], weight=row['Compatibility Score'])\n",
    "    \n",
    "    # Start tracking memory and time\n",
    "    tracemalloc.start()\n",
    "    start_time = time.time()\n",
    "    \n",
    "    # Compute the maximum weighted matching\n",
    "    matching = nx.max_weight_matching(G, maxcardinality=True)\n",
    "    \n",
    "    # Compute the total compatibility score\n",
    "    total_score = sum(G[u][v]['weight'] for u, v in matching)\n",
    "\n",
    "    # Stop tracking\n",
    "    end_time = time.time()\n",
    "    current, peak = tracemalloc.get_traced_memory()\n",
    "    tracemalloc.stop()\n",
    "\n",
    "    run_time = end_time - start_time\n",
    "    peak_memory = peak / 10**6  # Convert bytes to MiB\n",
    "\n",
    "    # Print results\n",
    "    print(\"=== Maximum Weighted Matching via NetworkX ===\")\n",
    "    print(f\"Optimal Pairing: {matching}\")\n",
    "    print(f\"Total Compatibility Score: {total_score:.2f}\")\n",
    "    print(f\"Time Taken: {run_time:.4f} seconds\")\n",
    "    print(f\"Peak Memory Usage: {peak_memory:.2f} MiB\")\n",
    "\n",
    "    return matching, total_score, run_time, peak_memory"
   ]
  },
  {
   "cell_type": "code",
   "execution_count": 3,
   "metadata": {},
   "outputs": [
    {
     "name": "stdout",
     "output_type": "stream",
     "text": [
      "=== Maximum Weighted Matching via NetworkX ===\n",
      "Optimal Pairing: {('Student_3', 'Student_5'), ('Student_6', 'Student_4'), ('Student_2', 'Student_1')}\n",
      "Total Compatibility Score: 2.28\n",
      "Time Taken: 0.0008 seconds\n",
      "Peak Memory Usage: 0.01 MiB\n"
     ]
    },
    {
     "data": {
      "text/plain": [
       "({('Student_2', 'Student_1'),\n",
       "  ('Student_3', 'Student_5'),\n",
       "  ('Student_6', 'Student_4')},\n",
       " 2.2812001621554097,\n",
       " 0.0007600784301757812,\n",
       " 0.00903)"
      ]
     },
     "execution_count": 3,
     "metadata": {},
     "output_type": "execute_result"
    }
   ],
   "source": [
    "solve_roommate_matching_graph(\"data/compatibility_6.csv\") # Generated after restarting the kernele"
   ]
  },
  {
   "cell_type": "code",
   "execution_count": 2,
   "metadata": {},
   "outputs": [
    {
     "name": "stdout",
     "output_type": "stream",
     "text": [
      "=== Maximum Weighted Matching via NetworkX ===\n",
      "Optimal Pairing: {('Student_2', 'Student_10'), ('Student_3', 'Student_4'), ('Student_8', 'Student_1'), ('Student_7', 'Student_9'), ('Student_5', 'Student_6')}\n",
      "Total Compatibility Score: 3.71\n",
      "Time Taken: 0.0033 seconds\n",
      "Peak Memory Usage: 0.03 MiB\n"
     ]
    },
    {
     "data": {
      "text/plain": [
       "({('Student_2', 'Student_10'),\n",
       "  ('Student_3', 'Student_4'),\n",
       "  ('Student_5', 'Student_6'),\n",
       "  ('Student_7', 'Student_9'),\n",
       "  ('Student_8', 'Student_1')},\n",
       " 3.708931604508898,\n",
       " 0.003339052200317383,\n",
       " 0.030689)"
      ]
     },
     "execution_count": 2,
     "metadata": {},
     "output_type": "execute_result"
    }
   ],
   "source": [
    "solve_roommate_matching_graph(\"data/compatibility_10.csv\") # Generated after restarting the kernel"
   ]
  },
  {
   "cell_type": "code",
   "execution_count": null,
   "metadata": {},
   "outputs": [
    {
     "name": "stdout",
     "output_type": "stream",
     "text": [
      "=== Maximum Weighted Matching via NetworkX ===\n",
      "Optimal Pairing: {('Student_12', 'Student_10'), ('Student_6', 'Student_16'), ('Student_3', 'Student_4'), ('Student_19', 'Student_15'), ('Student_20', 'Student_9'), ('Student_13', 'Student_17'), ('Student_1', 'Student_8'), ('Student_7', 'Student_18'), ('Student_2', 'Student_5'), ('Student_14', 'Student_11')}\n",
      "Total Compatibility Score: 8.00\n",
      "Time Taken: 0.0116 seconds\n",
      "Peak Memory Usage: 0.03 MiB\n"
     ]
    },
    {
     "data": {
      "text/plain": [
       "({('Student_1', 'Student_8'),\n",
       "  ('Student_12', 'Student_10'),\n",
       "  ('Student_13', 'Student_17'),\n",
       "  ('Student_14', 'Student_11'),\n",
       "  ('Student_19', 'Student_15'),\n",
       "  ('Student_2', 'Student_5'),\n",
       "  ('Student_20', 'Student_9'),\n",
       "  ('Student_3', 'Student_4'),\n",
       "  ('Student_6', 'Student_16'),\n",
       "  ('Student_7', 'Student_18')},\n",
       " 8.003157676038137,\n",
       " 0.011639118194580078,\n",
       " 0.030689)"
      ]
     },
     "execution_count": 2,
     "metadata": {},
     "output_type": "execute_result"
    }
   ],
   "source": [
    "solve_roommate_matching_graph(\"data/compatibility_20.csv\") # Generated after restarting the kernel"
   ]
  },
  {
   "cell_type": "code",
   "execution_count": 2,
   "metadata": {},
   "outputs": [
    {
     "name": "stdout",
     "output_type": "stream",
     "text": [
      "=== Maximum Weighted Matching via NetworkX ===\n",
      "Optimal Pairing: {('Student_36', 'Student_43'), ('Student_32', 'Student_33'), ('Student_25', 'Student_39'), ('Student_49', 'Student_26'), ('Student_1', 'Student_35'), ('Student_21', 'Student_24'), ('Student_5', 'Student_19'), ('Student_47', 'Student_38'), ('Student_6', 'Student_29'), ('Student_18', 'Student_34'), ('Student_10', 'Student_46'), ('Student_12', 'Student_48'), ('Student_15', 'Student_7'), ('Student_45', 'Student_31'), ('Student_28', 'Student_44'), ('Student_42', 'Student_40'), ('Student_3', 'Student_14'), ('Student_4', 'Student_11'), ('Student_8', 'Student_27'), ('Student_37', 'Student_16'), ('Student_2', 'Student_22'), ('Student_41', 'Student_50'), ('Student_30', 'Student_9'), ('Student_17', 'Student_13'), ('Student_23', 'Student_20')}\n",
      "Total Compatibility Score: 22.38\n",
      "Time Taken: 0.1210 seconds\n",
      "Peak Memory Usage: 0.05 MiB\n"
     ]
    },
    {
     "data": {
      "text/plain": [
       "({('Student_1', 'Student_35'),\n",
       "  ('Student_10', 'Student_46'),\n",
       "  ('Student_12', 'Student_48'),\n",
       "  ('Student_15', 'Student_7'),\n",
       "  ('Student_17', 'Student_13'),\n",
       "  ('Student_18', 'Student_34'),\n",
       "  ('Student_2', 'Student_22'),\n",
       "  ('Student_21', 'Student_24'),\n",
       "  ('Student_23', 'Student_20'),\n",
       "  ('Student_25', 'Student_39'),\n",
       "  ('Student_28', 'Student_44'),\n",
       "  ('Student_3', 'Student_14'),\n",
       "  ('Student_30', 'Student_9'),\n",
       "  ('Student_32', 'Student_33'),\n",
       "  ('Student_36', 'Student_43'),\n",
       "  ('Student_37', 'Student_16'),\n",
       "  ('Student_4', 'Student_11'),\n",
       "  ('Student_41', 'Student_50'),\n",
       "  ('Student_42', 'Student_40'),\n",
       "  ('Student_45', 'Student_31'),\n",
       "  ('Student_47', 'Student_38'),\n",
       "  ('Student_49', 'Student_26'),\n",
       "  ('Student_5', 'Student_19'),\n",
       "  ('Student_6', 'Student_29'),\n",
       "  ('Student_8', 'Student_27')},\n",
       " 22.37755035873189,\n",
       " 0.12095785140991211,\n",
       " 0.050885)"
      ]
     },
     "execution_count": 2,
     "metadata": {},
     "output_type": "execute_result"
    }
   ],
   "source": [
    "solve_roommate_matching_graph(\"data/compatibility_50.csv\") # Generated after restarting the kernel"
   ]
  }
 ],
 "metadata": {
  "kernelspec": {
   "display_name": "Python 3",
   "language": "python",
   "name": "python3"
  },
  "language_info": {
   "codemirror_mode": {
    "name": "ipython",
    "version": 3
   },
   "file_extension": ".py",
   "mimetype": "text/x-python",
   "name": "python",
   "nbconvert_exporter": "python",
   "pygments_lexer": "ipython3",
   "version": "3.11.9"
  }
 },
 "nbformat": 4,
 "nbformat_minor": 2
}

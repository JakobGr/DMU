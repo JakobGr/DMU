{
 "cells": [
  {
   "cell_type": "code",
   "execution_count": 1,
   "metadata": {},
   "outputs": [],
   "source": [
    "import pandas as pd\n",
    "import numpy as np\n",
    "import time\n",
    "import tracemalloc\n",
    "from numba import njit, typed, types\n",
    "\n",
    "# Define a tuple type for a pair of int64 values.\n",
    "pair_type = types.UniTuple(types.int64, 2)\n",
    "\n",
    "# ============================================================\n",
    "# Numba helper: Compute the bit length of an integer.\n",
    "# ============================================================\n",
    "@njit(cache=True)\n",
    "def get_bit_length(x):\n",
    "    \"\"\"\n",
    "    Returns the bit length of an integer x.\n",
    "    For example, get_bit_length(5) returns 3 because 5 in binary is '101'.\n",
    "    \"\"\"\n",
    "    length = 0\n",
    "    while x:\n",
    "        length += 1\n",
    "        x = x >> 1\n",
    "    return length\n",
    "\n",
    "# ============================================================\n",
    "# Numba-accelerated exhaustive search functions\n",
    "# ============================================================\n",
    "@njit(cache=True)\n",
    "def exhaustive_search_njit(mask, current_score, comp, n, best_score, best_pairs, current_pairs, allocations):\n",
    "    \"\"\"\n",
    "    Recursively enumerates all pairings (perfect matchings) for n students.\n",
    "    \n",
    "    Parameters:\n",
    "      mask: A bitmask (np.int64) where each set bit indicates that a student is still unmatched.\n",
    "      current_score: The accumulated compatibility score so far.\n",
    "      comp: An n x n NumPy array of compatibility scores.\n",
    "      n: Total number of students.\n",
    "      best_score: A one-element NumPy array (mutable container) holding the best score found so far.\n",
    "      best_pairs: A Numba-typed list (of 2-element tuples) that will store the best pairing.\n",
    "      current_pairs: A Numba-typed list (of 2-element tuples) for the current pairing in the recursion.\n",
    "      allocations: A one-element NumPy array (of int64) used as a counter for the number of pairing decisions.\n",
    "    \"\"\"\n",
    "    # Base case: all students have been paired.\n",
    "    if mask == 0:\n",
    "        if current_score > best_score[0]:\n",
    "            best_score[0] = current_score\n",
    "            # Clear best_pairs by popping all elements.\n",
    "            while len(best_pairs) > 0:\n",
    "                best_pairs.pop()\n",
    "            # Copy current_pairs into best_pairs.\n",
    "            for idx in range(len(current_pairs)):\n",
    "                best_pairs.append(current_pairs[idx])\n",
    "        return\n",
    "\n",
    "    # Choose the first unmatched student using the bit-trick.\n",
    "    # Instead of mask & -mask .bit_length(), we use get_bit_length().\n",
    "    i = get_bit_length(mask & -mask) - 1\n",
    "\n",
    "    # Remove student i from the mask.\n",
    "    new_mask = mask & ~(1 << i)\n",
    "    \n",
    "    # Iterate over candidate partners using a while loop over the bits in new_mask.\n",
    "    candidate = new_mask\n",
    "    while candidate:\n",
    "        # Extract the lowest set bit from candidate to get candidate student j.\n",
    "        j = get_bit_length(candidate & -candidate) - 1\n",
    "        # Remove j from candidate so that it is not processed again.\n",
    "        candidate = candidate & ~(1 << j)\n",
    "        \n",
    "        allocations[0] += 1  # Count this pairing decision.\n",
    "        # Create the next state by removing student j.\n",
    "        next_mask = new_mask & ~(1 << j)\n",
    "        current_pairs.append((i, j))\n",
    "        exhaustive_search_njit(next_mask, current_score + comp[i, j], comp, n, best_score, best_pairs, current_pairs, allocations)\n",
    "        current_pairs.pop()\n",
    "\n",
    "@njit(cache=True)\n",
    "def exhaustive_search_wrapper(comp, n):\n",
    "    \"\"\"\n",
    "    Entry point for the Numba-accelerated exhaustive search.\n",
    "    \n",
    "    Parameters:\n",
    "      comp: An n x n NumPy array of compatibility scores.\n",
    "      n: Total number of students.\n",
    "    \n",
    "    Returns:\n",
    "      A tuple: (best total compatibility score, best pairing as a typed list, allocation count)\n",
    "    \"\"\"\n",
    "    best_score = np.array([-1e9], dtype=np.float64)  # 1-element array for best score.\n",
    "    best_pairs = typed.List.empty_list(pair_type)       # Empty typed list for best pairing.\n",
    "    current_pairs = typed.List.empty_list(pair_type)      # Empty typed list for current pairing.\n",
    "    allocations = np.zeros(1, dtype=np.int64)            # 1-element array for counting.\n",
    "    full_mask = np.int64((1 << n) - 1)                    # All students unmatched.\n",
    "    exhaustive_search_njit(full_mask, 0.0, comp, n, best_score, best_pairs, current_pairs, allocations)\n",
    "    return best_score[0], best_pairs, allocations[0]\n",
    "\n",
    "# ============================================================\n",
    "# Python wrapper function for exhaustive search with Numba\n",
    "# ============================================================\n",
    "def solve_roommate_exhaustive(csv_path):\n",
    "    \"\"\"\n",
    "    Loads compatibility data from a CSV file and uses a Numba-accelerated exhaustive search\n",
    "    to compute the optimal pairing (perfect matching) for the given students.\n",
    "    \n",
    "    The function tracks and reports:\n",
    "      - Optimal pairing (converted to student name pairs)\n",
    "      - Total compatibility score\n",
    "      - Number of allocations (pairing decisions)\n",
    "      - Total runtime\n",
    "      - Peak memory usage (in MiB)\n",
    "    \n",
    "    Parameters:\n",
    "      csv_path: Path to the CSV file with columns \"Student 1\", \"Student 2\", and \"Compatibility Score\".\n",
    "    \n",
    "    Returns:\n",
    "      A tuple: (best_pairing_named, best_score, allocations, run_time, peak_memory)\n",
    "    \"\"\"\n",
    "    # Load CSV data.\n",
    "    df = pd.read_csv(csv_path)\n",
    "    \n",
    "    # Build a sorted list of unique student names.\n",
    "    student_names = sorted(list(set(df['Student 1'].tolist() + df['Student 2'].tolist())))\n",
    "    n = len(student_names)\n",
    "    \n",
    "    # Build dictionaries to map student names to indices and vice versa.\n",
    "    student_to_index = {name: i for i, name in enumerate(student_names)}\n",
    "    index_to_student = {i: name for i, name in enumerate(student_names)}\n",
    "    \n",
    "    # Build the compatibility matrix as an n x n NumPy array.\n",
    "    comp = np.zeros((n, n), dtype=np.float64)\n",
    "    for _, row in df.iterrows():\n",
    "        i = student_to_index[row['Student 1']]\n",
    "        j = student_to_index[row['Student 2']]\n",
    "        score = row['Compatibility Score']\n",
    "        comp[i, j] = score\n",
    "        comp[j, i] = score  # Ensure symmetry.\n",
    "    \n",
    "    # Start timing and memory tracking.\n",
    "    tracemalloc.start()\n",
    "    start_time = time.time()\n",
    "    \n",
    "    best, best_pairs, allocs = exhaustive_search_wrapper(comp, n)\n",
    "    \n",
    "    end_time = time.time()\n",
    "    current, peak = tracemalloc.get_traced_memory()\n",
    "    tracemalloc.stop()\n",
    "    \n",
    "    run_time = end_time - start_time\n",
    "    peak_memory = peak / 10**6  # Convert bytes to MiB.\n",
    "    \n",
    "    # Convert best_pairs (typed list of index pairs) to student name pairs.\n",
    "    best_pairing_named = [(index_to_student[p[0]], index_to_student[p[1]]) for p in best_pairs]\n",
    "    \n",
    "    print(\"=== Exhaustive Search with Numba ===\")\n",
    "    print(f\"Optimal Pairing: {best_pairing_named}\")\n",
    "    print(f\"Total Compatibility Score: {best}\")\n",
    "    print(f\"Number of Allocations: {allocs}\")\n",
    "    print(f\"Time Taken: {run_time:.4f} seconds\")\n",
    "    print(f\"Peak Memory Usage: {peak_memory:.3f} MiB\")\n",
    "    \n",
    "    return best_pairing_named, best, allocs, run_time, peak_memory"
   ]
  },
  {
   "cell_type": "code",
   "execution_count": 3,
   "metadata": {},
   "outputs": [
    {
     "name": "stdout",
     "output_type": "stream",
     "text": [
      "=== Exhaustive Search with Numba ===\n",
      "Optimal Pairing: [('Student_1', 'Student_2'), ('Student_3', 'Student_5'), ('Student_4', 'Student_6')]\n",
      "Total Compatibility Score: 2.2812001621554097\n",
      "Number of Allocations: 35\n",
      "Time Taken: 2.7241 seconds\n",
      "Peak Memory Usage: 25.722 MiB\n"
     ]
    },
    {
     "data": {
      "text/plain": [
       "([('Student_1', 'Student_2'),\n",
       "  ('Student_3', 'Student_5'),\n",
       "  ('Student_4', 'Student_6')],\n",
       " 2.2812001621554097,\n",
       " 35,\n",
       " 2.7241430282592773,\n",
       " 25.72192)"
      ]
     },
     "execution_count": 3,
     "metadata": {},
     "output_type": "execute_result"
    }
   ],
   "source": [
    "solve_roommate_exhaustive(\"data/compatibility_6.csv\") # Generated after starting kernel new"
   ]
  },
  {
   "cell_type": "code",
   "execution_count": 2,
   "metadata": {},
   "outputs": [
    {
     "name": "stdout",
     "output_type": "stream",
     "text": [
      "=== Exhaustive Search with Numba ===\n",
      "Optimal Pairing: [('Student_1', 'Student_2'), ('Student_3', 'Student_5'), ('Student_4', 'Student_6')]\n",
      "Total Compatibility Score: 2.2812001621554097\n",
      "Number of Allocations: 35\n",
      "Time Taken: 0.4934 seconds\n",
      "Peak Memory Usage: 19.760 MiB\n"
     ]
    },
    {
     "data": {
      "text/plain": [
       "([('Student_1', 'Student_2'),\n",
       "  ('Student_3', 'Student_5'),\n",
       "  ('Student_4', 'Student_6')],\n",
       " 2.2812001621554097,\n",
       " 35,\n",
       " 0.4933938980102539,\n",
       " 19.759911)"
      ]
     },
     "execution_count": 2,
     "metadata": {},
     "output_type": "execute_result"
    }
   ],
   "source": [
    "solve_roommate_exhaustive(\"data/compatibility_6.csv\") # Generated after starting kernel new"
   ]
  },
  {
   "cell_type": "code",
   "execution_count": 2,
   "metadata": {},
   "outputs": [
    {
     "name": "stdout",
     "output_type": "stream",
     "text": [
      "=== Exhaustive Search with Numba ===\n",
      "Optimal Pairing: [('Student_1', 'Student_8'), ('Student_10', 'Student_2'), ('Student_3', 'Student_4'), ('Student_5', 'Student_6'), ('Student_7', 'Student_9')]\n",
      "Total Compatibility Score: 3.708931604508898\n",
      "Number of Allocations: 2277\n",
      "Time Taken: 0.5089 seconds\n",
      "Peak Memory Usage: 19.761 MiB\n"
     ]
    },
    {
     "data": {
      "text/plain": [
       "([('Student_1', 'Student_8'),\n",
       "  ('Student_10', 'Student_2'),\n",
       "  ('Student_3', 'Student_4'),\n",
       "  ('Student_5', 'Student_6'),\n",
       "  ('Student_7', 'Student_9')],\n",
       " 3.708931604508898,\n",
       " 2277,\n",
       " 0.5089342594146729,\n",
       " 19.76053)"
      ]
     },
     "execution_count": 2,
     "metadata": {},
     "output_type": "execute_result"
    }
   ],
   "source": [
    "solve_roommate_exhaustive(\"data/compatibility_10.csv\") # Generated after starting kernel new"
   ]
  },
  {
   "cell_type": "code",
   "execution_count": 2,
   "metadata": {},
   "outputs": [
    {
     "name": "stdout",
     "output_type": "stream",
     "text": [
      "=== Exhaustive Search with Numba ===\n",
      "Optimal Pairing: [('Student_1', 'Student_8'), ('Student_10', 'Student_12'), ('Student_11', 'Student_14'), ('Student_13', 'Student_17'), ('Student_15', 'Student_19'), ('Student_16', 'Student_6'), ('Student_18', 'Student_7'), ('Student_2', 'Student_5'), ('Student_20', 'Student_9'), ('Student_3', 'Student_4')]\n",
      "Total Compatibility Score: 8.003157676038137\n",
      "Number of Allocations: 1578346302\n",
      "Time Taken: 89.1595 seconds\n",
      "Peak Memory Usage: 19.760 MiB\n"
     ]
    },
    {
     "data": {
      "text/plain": [
       "([('Student_1', 'Student_8'),\n",
       "  ('Student_10', 'Student_12'),\n",
       "  ('Student_11', 'Student_14'),\n",
       "  ('Student_13', 'Student_17'),\n",
       "  ('Student_15', 'Student_19'),\n",
       "  ('Student_16', 'Student_6'),\n",
       "  ('Student_18', 'Student_7'),\n",
       "  ('Student_2', 'Student_5'),\n",
       "  ('Student_20', 'Student_9'),\n",
       "  ('Student_3', 'Student_4')],\n",
       " 8.003157676038137,\n",
       " 1578346302,\n",
       " 89.15950608253479,\n",
       " 19.760171)"
      ]
     },
     "execution_count": 2,
     "metadata": {},
     "output_type": "execute_result"
    }
   ],
   "source": [
    "solve_roommate_exhaustive(\"data/compatibility_20.csv\") # Generated after starting kernel new"
   ]
  },
  {
   "cell_type": "code",
   "execution_count": null,
   "metadata": {},
   "outputs": [],
   "source": [
    "solve_roommate_exhaustive(\"data/compatibility_50.csv\") # Generated after starting kernel new"
   ]
  }
 ],
 "metadata": {
  "kernelspec": {
   "display_name": "Python 3",
   "language": "python",
   "name": "python3"
  },
  "language_info": {
   "codemirror_mode": {
    "name": "ipython",
    "version": 3
   },
   "file_extension": ".py",
   "mimetype": "text/x-python",
   "name": "python",
   "nbconvert_exporter": "python",
   "pygments_lexer": "ipython3",
   "version": "3.11.9"
  }
 },
 "nbformat": 4,
 "nbformat_minor": 2
}

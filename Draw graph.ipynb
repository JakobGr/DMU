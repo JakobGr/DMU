{
 "cells": [
  {
   "cell_type": "code",
   "execution_count": null,
   "metadata": {},
   "outputs": [],
   "source": [
    "from graphviz import Digraph\n",
    "\n",
    "def generate_tree():\n",
    "    dot = Digraph(comment='Full Branch and Bound Tree for 6 Students')\n",
    "    node_counter = 0\n",
    "\n",
    "    def add_node(label):\n",
    "        nonlocal node_counter\n",
    "        node_name = f\"node{node_counter}\"\n",
    "        dot.node(node_name, label)\n",
    "        node_counter += 1\n",
    "        return node_name\n",
    "\n",
    "    def recurse(unmatched, pairs, parent=None, edge_label=''):\n",
    "        # Create a label for the current state.\n",
    "        label = f\"Unmatched: {unmatched}\\nPairs: {pairs}\"\n",
    "        current_node = add_node(label)\n",
    "        if parent is not None:\n",
    "            dot.edge(parent, current_node, label=edge_label)\n",
    "        # Base case: if no unmatched students remain, it's a leaf.\n",
    "        if not unmatched:\n",
    "            return\n",
    "        # Pick the first student in the unmatched set.\n",
    "        first = sorted(unmatched)[0]\n",
    "        remaining = unmatched.copy()\n",
    "        remaining.remove(first)\n",
    "        # For each possible partner for 'first'\n",
    "        for partner in sorted(remaining):\n",
    "            new_pairs = pairs + [f\"{first}–{partner}\"]\n",
    "            new_unmatched = remaining.copy()\n",
    "            new_unmatched.remove(partner)\n",
    "            recurse(new_unmatched, new_pairs, current_node, edge_label=f\"{first}–{partner}\")\n",
    "\n",
    "    # Start with students A to F.\n",
    "    all_students = {\"A\", \"B\", \"C\", \"D\", \"E\", \"F\"}\n",
    "    recurse(all_students, [])\n",
    "    return dot\n",
    "\n",
    "dot_tree = generate_tree()\n",
    "dot_tree.render('full_branch_bound_tree', format='png', view=True)\n"
   ]
  }
 ],
 "metadata": {
  "kernelspec": {
   "display_name": "Python 3",
   "language": "python",
   "name": "python3"
  },
  "language_info": {
   "name": "python",
   "version": "3.11.9"
  }
 },
 "nbformat": 4,
 "nbformat_minor": 2
}
